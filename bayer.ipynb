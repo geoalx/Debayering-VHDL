{
 "cells": [
  {
   "cell_type": "markdown",
   "metadata": {},
   "source": [
    "# Parameters"
   ]
  },
  {
   "cell_type": "code",
   "execution_count": 20,
   "metadata": {},
   "outputs": [],
   "source": [
    "image_name = \"image1024.jpg\"\n",
    "input_name = \"test.txt\"\n",
    "output_name = \"results_pc.txt\"\n",
    "fpga_output_name = \"results_fpga.txt\"\n",
    "fpga_output_image = \"fpga_image.jpg\""
   ]
  },
  {
   "cell_type": "markdown",
   "metadata": {},
   "source": [
    "# Image Reading"
   ]
  },
  {
   "cell_type": "code",
   "execution_count": 15,
   "metadata": {},
   "outputs": [],
   "source": [
    "import cv2\n",
    "import numpy as np\n",
    "import os\n",
    "\n",
    "img = cv2.imread(image_name)\n",
    "N = np.shape(img)[0]\n",
    "(B,G,R) = cv2.split(img)\n"
   ]
  },
  {
   "cell_type": "markdown",
   "metadata": {},
   "source": [
    "# Bayer Image Creation"
   ]
  },
  {
   "cell_type": "code",
   "execution_count": 16,
   "metadata": {},
   "outputs": [],
   "source": [
    "bayer = np.empty((N, N), np.uint8)\n",
    "\n",
    "bayer[0::2,0::2] = G[0::2,0::2]\n",
    "bayer[0::2,1::2] = B[0::2,1::2]\n",
    "bayer[1::2,0::2] = R[1::2,0::2]\n",
    "bayer[1::2,1::2] = G[1::2,1::2]"
   ]
  },
  {
   "cell_type": "markdown",
   "metadata": {},
   "source": [
    "# Bayer test set creation"
   ]
  },
  {
   "cell_type": "code",
   "execution_count": 17,
   "metadata": {},
   "outputs": [],
   "source": [
    "if(os.path.exists(\"./sim_1/new/\"+input_name)):\n",
    "    os.remove(\"./sim_1/new/\"+input_name)\n",
    "with open(\"./sim_1/new/\"+input_name,\"x\") as f:\n",
    "    for i in bayer:\n",
    "        for j in i:\n",
    "            f.write(\"{}\\n\".format(j))"
   ]
  },
  {
   "cell_type": "markdown",
   "metadata": {},
   "source": [
    "# Debayering Function"
   ]
  },
  {
   "cell_type": "code",
   "execution_count": 18,
   "metadata": {},
   "outputs": [],
   "source": [
    "def demosaic(inimg,N=16):\n",
    "    img = np.array([[0 for i in range(N+2) ] for j in range(N+2)])\n",
    "    img[1:N+1,1:N+1] = inimg\n",
    "    print(img)\n",
    "    RGB = (0,0,0)\n",
    "    res = []\n",
    "    for i in range(1,N+1):\n",
    "        for j in range(1,N+1):\n",
    "            if i%2 and j%2:\n",
    "                RGB = ((img[i-1][j]+img[i+1][j]) // 2,img[i][j],(img[i][j-1]+img[i][j+1]) //2)\n",
    "            elif  i%2 and not j%2:\n",
    "                RGB = ((img[i-1][j-1]+img[i-1][j+1]+img[i+1][j-1]+img[i+1][j+1])//4,(img[i-1][j]+img[i+1][j]+img[i][j-1]+img[i][j+1]) // 4,img[i][j])\n",
    "            elif not i%2 and j%2:\n",
    "                RGB = (img[i][j],(img[i-1][j]+img[i+1][j]+img[i][j-1]+img[i][j+1]) // 4,(img[i-1][j-1]+img[i-1][j+1]+img[i+1][j-1]+img[i+1][j+1])//4)\n",
    "            elif not i%2 and not j%2:\n",
    "                RGB = ((img[i][j-1]+img[i][j+1]) //2,img[i][j],(img[i-1][j]+img[i+1][j]) // 2)\n",
    "            res.append(RGB)\n",
    "    return res"
   ]
  },
  {
   "cell_type": "markdown",
   "metadata": {},
   "source": [
    "# Bayer from a txt file"
   ]
  },
  {
   "cell_type": "code",
   "execution_count": null,
   "metadata": {},
   "outputs": [],
   "source": [
    "with open(\"./sim_1/new/\"+input_name,\"r\") as f:\n",
    "    temp = f.readlines()\n",
    "    bayer = []\n",
    "    cnt = 0\n",
    "    for i in range(N):\n",
    "        pup = []\n",
    "        for j in range(N):\n",
    "            t = temp[cnt]\n",
    "            pup.append(t)\n",
    "            cnt +=1\n",
    "        bayer.append(pup)"
   ]
  },
  {
   "cell_type": "markdown",
   "metadata": {},
   "source": [
    "# Debayering results from PC"
   ]
  },
  {
   "cell_type": "code",
   "execution_count": 19,
   "metadata": {},
   "outputs": [
    {
     "name": "stdout",
     "output_type": "stream",
     "text": [
      "[[  0   0   0 ...   0   0   0]\n",
      " [  0  45  78 ...  58  70   0]\n",
      " [  0  82  56 ...  75  56   0]\n",
      " ...\n",
      " [  0  43  52 ...  75 167   0]\n",
      " [  0  10  45 ...  46  75   0]\n",
      " [  0   0   0 ...   0   0   0]]\n"
     ]
    }
   ],
   "source": [
    "if(os.path.exists(output_name)):\n",
    "    os.remove(output_name)\n",
    "with open(output_name,\"x\") as f:\n",
    "    for i in demosaic(bayer,N):\n",
    "        f.write(\"{} {} {}\\n\".format(i[0],i[1],i[2]))\n"
   ]
  },
  {
   "cell_type": "markdown",
   "metadata": {},
   "source": [
    "# Image reconstruction from FPGA results"
   ]
  },
  {
   "cell_type": "code",
   "execution_count": 13,
   "metadata": {},
   "outputs": [
    {
     "data": {
      "text/plain": [
       "True"
      ]
     },
     "execution_count": 13,
     "metadata": {},
     "output_type": "execute_result"
    }
   ],
   "source": [
    "with open(\"./sim_1/new/\"+fpga_output_name,\"r\") as f:\n",
    "    temp = f.readlines()\n",
    "    debayer = []\n",
    "    cnt = 0\n",
    "    for i in range(N):\n",
    "        pup = []\n",
    "        for j in range(N):\n",
    "            t = temp[cnt].split(\" \")\n",
    "            pup.append([t[2],t[1],t[0]])\n",
    "            cnt +=1\n",
    "        debayer.append(pup)\n",
    "\n",
    "cv2.imwrite(fpga_output_image,np.array(debayer,dtype=\"uint8\"))"
   ]
  },
  {
   "cell_type": "code",
   "execution_count": null,
   "metadata": {},
   "outputs": [],
   "source": []
  }
 ],
 "metadata": {
  "kernelspec": {
   "display_name": "Python 3.10.8 64-bit (microsoft store)",
   "language": "python",
   "name": "python3"
  },
  "language_info": {
   "codemirror_mode": {
    "name": "ipython",
    "version": 3
   },
   "file_extension": ".py",
   "mimetype": "text/x-python",
   "name": "python",
   "nbconvert_exporter": "python",
   "pygments_lexer": "ipython3",
   "version": "3.10.8"
  },
  "orig_nbformat": 4,
  "vscode": {
   "interpreter": {
    "hash": "3038ba6550462ecf9d3739fc314ce1b8d299275b9c4cc68cee1b3ac2596afc40"
   }
  }
 },
 "nbformat": 4,
 "nbformat_minor": 2
}
